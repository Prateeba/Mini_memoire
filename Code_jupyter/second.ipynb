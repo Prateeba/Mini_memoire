{
 "cells": [
  {
   "cell_type": "code",
   "execution_count": null,
   "metadata": {
    "collapsed": true
   },
   "outputs": [],
   "source": [
    "import vcsn\n",
    "vcsn.automaton('''\n",
    "context = lal_char(abc), z\n",
    "$ -> p <2>\n",
    "p -> q <3>a,<4>b\n",
    "q -> q a\n",
    "q -> r c \n",
    "r -> $\n",
    "''')\n"
   ]
  },
  {
   "cell_type": "code",
   "execution_count": null,
   "metadata": {
    "collapsed": true
   },
   "outputs": [],
   "source": [
    "#vcsn.context('law<char(a-z)>, z')\n",
    "x = input(\"Enter the first character : \")\n",
    "y = input(\"Enter the second character: \")\n",
    "\n",
    "vcsn.context('law<char('+x+y+')>, z')\n",
    "\n",
    "\n"
   ]
  },
  {
   "cell_type": "code",
   "execution_count": null,
   "metadata": {
    "collapsed": true
   },
   "outputs": [],
   "source": [
    "ctx = vcsn.context(\"lat<lal_char(abc), lal_char(abc)>, z\")\n",
    "r = ctx.expression(\"a|b\")\n",
    "r.automaton()\n",
    "\n"
   ]
  },
  {
   "cell_type": "markdown",
   "metadata": {},
   "source": [
    "## Algorithme : \n",
    "def generate(number_of_states, inputs, outputs, name_of_states) :\n",
    "    \n",
    "    Dans un premier temps le premier état sera l'état initial et\n",
    "    le dernier le final \n",
    "    \n",
    "    Debut de l'Algo : \n",
    "    Prend le premier état, rajoute une arrête avec le premier \n",
    "    input et premier output et le joindre au deuxième état. \n",
    "    Fait un test de is_deterministic : \n",
    "        si false : \n",
    "            construit une étape de plus \n",
    "            refait le test is deterministic \n",
    "            si false : \n",
    "                fais le test de twinning property \n",
    "                    si True, garde la partie Trim etc \n",
    "                    \n",
    "    \n",
    "    "
   ]
  },
  {
   "cell_type": "markdown",
   "metadata": {
    "collapsed": true
   },
   "source": [
    "## Goal for today : \n",
    "\n",
    "A savoir faire dans un premier temps : \n",
    "    comment creer un transducers basic et lui rajouter des états "
   ]
  },
  {
   "cell_type": "code",
   "execution_count": null,
   "metadata": {
    "collapsed": true
   },
   "outputs": [],
   "source": [
    "import vcsn\n",
    "ctxw = vcsn.context(\"lat<lal_char(ab), lal_char(xy)>, z\")\n",
    "r = ctxw.expression(\"(a|x)*((b|x)(a|y))*(b|y)*\")\n",
    "r.automaton()"
   ]
  },
  {
   "cell_type": "code",
   "execution_count": null,
   "metadata": {
    "collapsed": true
   },
   "outputs": [],
   "source": [
    "import vcsn\n",
    "\n",
    "num_states = input(\"Enter the number of states : \")\n",
    "i = input(\"Enter the inputs without seperating them eg ab : \")\n",
    "o = input(\"Enter the inputs without seperating them eg xy : \")\n",
    "\n",
    "string = \"\"\n",
    "for j in i :\n",
    "    temp = \"\"\n",
    "    for k in o :\n",
    "        temp += \"(\"+j+\"|\"+k+\")\"\n",
    "    string += temp \n",
    "print(string)\n",
    "\n",
    "ctxw = vcsn.context(\"lat<lal_char(\"+i+\"), lal_char(\"+o+\")>, z\")\n",
    "r = ctxw.expression(string)\n",
    "\n",
    "\n",
    "r.automaton()\n"
   ]
  },
  {
   "cell_type": "code",
   "execution_count": null,
   "metadata": {
    "collapsed": true
   },
   "outputs": [],
   "source": [
    "\n"
   ]
  }
 ],
 "metadata": {
  "kernelspec": {
   "display_name": "Python 3",
   "language": "python",
   "name": "python3"
  },
  "language_info": {
   "codemirror_mode": {
    "name": "ipython",
    "version": 3
   },
   "file_extension": ".py",
   "mimetype": "text/x-python",
   "name": "python",
   "nbconvert_exporter": "python",
   "pygments_lexer": "ipython3",
   "version": "3.6.4"
  }
 },
 "nbformat": 4,
 "nbformat_minor": 2
}
